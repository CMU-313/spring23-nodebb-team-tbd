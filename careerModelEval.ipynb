{
  "cells": [
    {
      "cell_type": "code",
      "source": [
        "!pip uninstall scikit-learn -y\n",
        "!pip install scikit-learn==1.2.1"
      ],
      "metadata": {
        "colab": {
          "base_uri": "https://localhost:8080/"
        },
        "id": "L1OHXQGNv3w3",
        "outputId": "ffbec502-01ec-475d-c162-6f4481a51fa2"
      },
      "id": "L1OHXQGNv3w3",
      "execution_count": null,
      "outputs": [
        {
          "output_type": "stream",
          "name": "stdout",
          "text": [
            "Found existing installation: scikit-learn 1.2.2\n",
            "Uninstalling scikit-learn-1.2.2:\n",
            "  Successfully uninstalled scikit-learn-1.2.2\n",
            "Looking in indexes: https://pypi.org/simple, https://us-python.pkg.dev/colab-wheels/public/simple/\n",
            "Collecting scikit-learn==1.2.1\n",
            "  Downloading scikit_learn-1.2.1-cp39-cp39-manylinux_2_17_x86_64.manylinux2014_x86_64.whl (9.6 MB)\n",
            "\u001b[2K     \u001b[90m━━━━━━━━━━━━━━━━━━━━━━━━━━━━━━━━━━━━━━━━\u001b[0m \u001b[32m9.6/9.6 MB\u001b[0m \u001b[31m111.2 MB/s\u001b[0m eta \u001b[36m0:00:00\u001b[0m\n",
            "\u001b[?25hRequirement already satisfied: numpy>=1.17.3 in /usr/local/lib/python3.9/dist-packages (from scikit-learn==1.2.1) (1.22.4)\n",
            "Requirement already satisfied: joblib>=1.1.1 in /usr/local/lib/python3.9/dist-packages (from scikit-learn==1.2.1) (1.1.1)\n",
            "Requirement already satisfied: scipy>=1.3.2 in /usr/local/lib/python3.9/dist-packages (from scikit-learn==1.2.1) (1.10.1)\n",
            "Requirement already satisfied: threadpoolctl>=2.0.0 in /usr/local/lib/python3.9/dist-packages (from scikit-learn==1.2.1) (3.1.0)\n",
            "Installing collected packages: scikit-learn\n",
            "Successfully installed scikit-learn-1.2.1\n"
          ]
        }
      ]
    },
    {
      "cell_type": "code",
      "execution_count": null,
      "id": "44150217",
      "metadata": {
        "lines_to_next_cell": 1,
        "id": "44150217",
        "colab": {
          "base_uri": "https://localhost:8080/"
        },
        "outputId": "800a44b3-0064-4a3f-a5d1-92abbdd98bcf"
      },
      "outputs": [
        {
          "output_type": "stream",
          "name": "stdout",
          "text": [
            "  % Total    % Received % Xferd  Average Speed   Time    Time     Time  Current\n",
            "                                 Dload  Upload   Total   Spent    Left  Speed\n",
            "100 26963  100 26963    0     0   537k      0 --:--:-- --:--:-- --:--:--  537k\n",
            "  % Total    % Received % Xferd  Average Speed   Time    Time     Time  Current\n",
            "                                 Dload  Upload   Total   Spent    Left  Speed\n",
            "100 14.3M  100 14.3M    0     0   112M      0 --:--:-- --:--:-- --:--:--  112M\n"
          ]
        }
      ],
      "source": [
        "import pandas as pd\n",
        "import joblib\n",
        "from pydantic import BaseModel, Field\n",
        "from pydantic.tools import parse_obj_as\n",
        "import matplotlib.pyplot as plt \n",
        "from tqdm import tqdm\n",
        "import numpy as np\n",
        "\n",
        "!curl -L -o student_data.csv \"https://seansun.org/17313/P4/ML/student_data.csv\"\n",
        "!curl -L -o model.pkl \"https://seansun.org/17313/P4/ML/model.pkl\""
      ]
    },
    {
      "cell_type": "code",
      "execution_count": null,
      "id": "d991f1c8",
      "metadata": {
        "lines_to_next_cell": 1,
        "id": "d991f1c8"
      },
      "outputs": [],
      "source": [
        "# Pydantic Models\n",
        "class Student(BaseModel):\n",
        "    student_id: str = Field(alias=\"Student ID\")\n",
        "    gender: str = Field(alias=\"Gender\")\n",
        "    age: str = Field(alias=\"Age\")\n",
        "    major: str = Field(alias=\"Major\")\n",
        "    gpa: str = Field(alias=\"GPA\")\n",
        "    extra_curricular: str = Field(alias=\"Extra Curricular\")\n",
        "    num_programming_languages: str = Field(alias=\"Num Programming Languages\")\n",
        "    num_past_internships: str = Field(alias=\"Num Past Internships\")\n",
        "\n",
        "    class Config:\n",
        "        allow_population_by_field_name = True"
      ]
    },
    {
      "cell_type": "code",
      "execution_count": null,
      "id": "1267178a",
      "metadata": {
        "id": "1267178a"
      },
      "outputs": [],
      "source": [
        "class PredictionResult(BaseModel):\n",
        "    good_employee: int"
      ]
    },
    {
      "cell_type": "code",
      "execution_count": null,
      "id": "554f523e",
      "metadata": {
        "id": "554f523e"
      },
      "outputs": [],
      "source": [
        "# Main Functionality\n",
        "def predict(student):\n",
        "    '''\n",
        "    Returns a prediction on whether the student will be a good employee\n",
        "    based on given parameters by using the ML model\n",
        "\n",
        "    Parameters\n",
        "    ----------\n",
        "    student : dict\n",
        "        A dictionary that contains all fields in Student\n",
        "    \n",
        "    Returns\n",
        "    -------\n",
        "    dict\n",
        "        A dictionary satisfying type PredictionResult, contains a single field\n",
        "        'good_employee' which is either 1 (will be a good employee) or 0 (will\n",
        "        not be a good employee)\n",
        "    '''\n",
        "    # Use Pydantic to validate model fields exist\n",
        "    student = parse_obj_as(Student, student)\n",
        "\n",
        "    clf = joblib.load('./model.pkl')\n",
        "    \n",
        "    student = student.dict(by_alias=True)\n",
        "    query = pd.DataFrame(student, index=[0])\n",
        "    prediction = clf.predict(query) # TODO: Error handling ??\n",
        "\n",
        "    return { 'good_employee': prediction[0] }"
      ]
    },
    {
      "cell_type": "code",
      "execution_count": null,
      "id": "e2abe636",
      "metadata": {
        "id": "e2abe636"
      },
      "outputs": [],
      "source": [
        "df = pd.read_csv(\"./student_data.csv\")"
      ]
    },
    {
      "cell_type": "code",
      "execution_count": null,
      "id": "34345124",
      "metadata": {
        "id": "34345124",
        "colab": {
          "base_uri": "https://localhost:8080/"
        },
        "outputId": "102edab5-adaf-4698-8db8-b10cef828840"
      },
      "outputs": [
        {
          "output_type": "stream",
          "name": "stderr",
          "text": [
            "100%|██████████| 500/500 [02:21<00:00,  3.52it/s]\n"
          ]
        }
      ],
      "source": [
        "dfdict = df.to_dict(orient='records')\n",
        "for student in tqdm(dfdict):\n",
        "    student[\"result\"] = predict(student)['good_employee']"
      ]
    },
    {
      "cell_type": "code",
      "execution_count": null,
      "id": "31db34e9",
      "metadata": {
        "id": "31db34e9",
        "colab": {
          "base_uri": "https://localhost:8080/"
        },
        "outputId": "c791b535-2070-403c-f18f-b1298b8f95b3"
      },
      "outputs": [
        {
          "output_type": "stream",
          "name": "stdout",
          "text": [
            "Accuracy:  0.832\n",
            "Confusion matrix:\n",
            "[[221.  42.]\n",
            " [ 42. 195.]]\n"
          ]
        }
      ],
      "source": [
        "acc = 0\n",
        "acc_count = 0\n",
        "C = np.zeros((2, 2))\n",
        "for student in dfdict:\n",
        "    if student['Good Candidate'] == student['result']:\n",
        "        acc += 1\n",
        "    C[student['Good Candidate']][student['result']] += 1\n",
        "    acc_count += 1\n",
        "print(\"Accuracy: \", acc/acc_count)\n",
        "print(\"Confusion matrix:\")\n",
        "print(C)"
      ]
    },
    {
      "cell_type": "code",
      "source": [
        "df['Gender'].value_counts().plot(kind='bar')"
      ],
      "metadata": {
        "id": "SRWgfXLJsIRQ",
        "colab": {
          "base_uri": "https://localhost:8080/",
          "height": 281
        },
        "outputId": "f3282dbc-776e-488e-8e8e-0a61f5342fda"
      },
      "id": "SRWgfXLJsIRQ",
      "execution_count": null,
      "outputs": [
        {
          "output_type": "execute_result",
          "data": {
            "text/plain": [
              "<Axes: >"
            ]
          },
          "metadata": {},
          "execution_count": 9
        },
        {
          "output_type": "display_data",
          "data": {
            "text/plain": [
              "<Figure size 432x288 with 1 Axes>"
            ],
            "image/png": "[encoded data removed]"
          },
          "metadata": {
            "needs_background": "light"
          }
        }
      ]
    },
    {
      "cell_type": "code",
      "source": [
        "df['Age'].plot(kind='hist', edgecolor='black')"
      ],
      "metadata": {
        "id": "l2WK1bq9sJ8h",
        "colab": {
          "base_uri": "https://localhost:8080/",
          "height": 282
        },
        "outputId": "b3f75f56-e723-4597-c565-dd1e0688b1ec"
      },
      "id": "l2WK1bq9sJ8h",
      "execution_count": null,
      "outputs": [
        {
          "output_type": "execute_result",
          "data": {
            "text/plain": [
              "<Axes: ylabel='Frequency'>"
            ]
          },
          "metadata": {},
          "execution_count": 10
        },
        {
          "output_type": "display_data",
          "data": {
            "text/plain": [
              "<Figure size 432x288 with 1 Axes>"
            ],
            "image/png": "[encoded data removed]"
          },
          "metadata": {
            "needs_background": "light"
          }
        }
      ]
    },
    {
      "cell_type": "code",
      "source": [
        "df['Major'].value_counts().plot(kind='bar')"
      ],
      "metadata": {
        "id": "ZoXeytaosL3u",
        "colab": {
          "base_uri": "https://localhost:8080/",
          "height": 456
        },
        "outputId": "a4e84231-ff45-495f-e2fa-92809c59be29"
      },
      "id": "ZoXeytaosL3u",
      "execution_count": null,
      "outputs": [
        {
          "output_type": "execute_result",
          "data": {
            "text/plain": [
              "<Axes: >"
            ]
          },
          "metadata": {},
          "execution_count": 11
        },
        {
          "output_type": "display_data",
          "data": {
            "text/plain": [
              "<Figure size 432x288 with 1 Axes>"
            ],
            "image/png": "[encoded data removed]"
          },
          "metadata": {
            "needs_background": "light"
          }
        }
      ]
    },
    {
      "cell_type": "code",
      "source": [
        "df['GPA'].plot(kind='hist', edgecolor='black')"
      ],
      "metadata": {
        "id": "s0a4JFsbsOGb",
        "colab": {
          "base_uri": "https://localhost:8080/",
          "height": 282
        },
        "outputId": "0e167fd0-c425-43aa-8b5c-e985e477cd72"
      },
      "id": "s0a4JFsbsOGb",
      "execution_count": null,
      "outputs": [
        {
          "output_type": "execute_result",
          "data": {
            "text/plain": [
              "<Axes: ylabel='Frequency'>"
            ]
          },
          "metadata": {},
          "execution_count": 12
        },
        {
          "output_type": "display_data",
          "data": {
            "text/plain": [
              "<Figure size 432x288 with 1 Axes>"
            ],
            "image/png": "[encoded data removed]"
          },
          "metadata": {
            "needs_background": "light"
          }
        }
      ]
    },
    {
      "cell_type": "code",
      "source": [
        "df['Extra Curricular'].value_counts().plot(kind='bar')"
      ],
      "metadata": {
        "id": "eP6Kx8nJsPsB",
        "colab": {
          "base_uri": "https://localhost:8080/",
          "height": 415
        },
        "outputId": "2db6b526-a7fe-4b3f-e688-821f80b1b06a"
      },
      "id": "eP6Kx8nJsPsB",
      "execution_count": null,
      "outputs": [
        {
          "output_type": "execute_result",
          "data": {
            "text/plain": [
              "<Axes: >"
            ]
          },
          "metadata": {},
          "execution_count": 13
        },
        {
          "output_type": "display_data",
          "data": {
            "text/plain": [
              "<Figure size 432x288 with 1 Axes>"
            ],
            "image/png": "[encoded data removed]"
          },
          "metadata": {
            "needs_background": "light"
          }
        }
      ]
    },
    {
      "cell_type": "code",
      "execution_count": null,
      "id": "185d1feb",
      "metadata": {
        "id": "185d1feb",
        "colab": {
          "base_uri": "https://localhost:8080/",
          "height": 282
        },
        "outputId": "18c80692-1586-4b9c-b361-12c06d222038"
      },
      "outputs": [
        {
          "output_type": "execute_result",
          "data": {
            "text/plain": [
              "<Axes: ylabel='Frequency'>"
            ]
          },
          "metadata": {},
          "execution_count": 14
        },
        {
          "output_type": "display_data",
          "data": {
            "text/plain": [
              "<Figure size 432x288 with 1 Axes>"
            ],
            "image/png": "[encoded data removed]"
          },
          "metadata": {
            "needs_background": "light"
          }
        }
      ],
      "source": [
        "df['Num Programming Languages'].plot(kind='hist', edgecolor='black')"
      ]
    },
    {
      "cell_type": "code",
      "source": [
        "df['Num Past Internships'].plot(kind='hist', edgecolor='black')"
      ],
      "metadata": {
        "id": "MGUbS1chsTWk",
        "colab": {
          "base_uri": "https://localhost:8080/",
          "height": 282
        },
        "outputId": "3d1c2877-9578-441f-a7e7-9a2953f96d06"
      },
      "id": "MGUbS1chsTWk",
      "execution_count": null,
      "outputs": [
        {
          "output_type": "execute_result",
          "data": {
            "text/plain": [
              "<Axes: ylabel='Frequency'>"
            ]
          },
          "metadata": {},
          "execution_count": 15
        },
        {
          "output_type": "display_data",
          "data": {
            "text/plain": [
              "<Figure size 432x288 with 1 Axes>"
            ],
            "image/png": "[encoded data removed]"
          },
          "metadata": {
            "needs_background": "light"
          }
        }
      ]
    },
    {
      "cell_type": "code",
      "source": [],
      "metadata": {
        "id": "8CfTaC2kt82g"
      },
      "id": "8CfTaC2kt82g",
      "execution_count": null,
      "outputs": []
    }
  ],
  "metadata": {
    "jupytext": {
      "cell_metadata_filter": "-all",
      "notebook_metadata_filter": "-all"
    },
    "kernelspec": {
      "display_name": "Python 3 (ipykernel)",
      "language": "python",
      "name": "python3"
    },
    "language_info": {
      "codemirror_mode": {
        "name": "ipython",
        "version": 3
      },
      "file_extension": ".py",
      "mimetype": "text/x-python",
      "name": "python",
      "nbconvert_exporter": "python",
      "pygments_lexer": "ipython3",
      "version": "3.9.7"
    },
    "colab": {
      "provenance": []
    },
    "gpuClass": "standard"
  },
  "nbformat": 4,
  "nbformat_minor": 5
}