{
  "cells": [
    {
      "cell_type": "code",
      "execution_count": 1,
      "id": "L1OHXQGNv3w3",
      "metadata": {
        "colab": {
          "base_uri": "https://localhost:8080/"
        },
        "id": "L1OHXQGNv3w3",
        "outputId": "ffbec502-01ec-475d-c162-6f4481a51fa2"
      },
      "outputs": [
        {
          "name": "stdout",
          "output_type": "stream",
          "text": [
            "Found existing installation: scikit-learn 1.2.1\n",
            "Uninstalling scikit-learn-1.2.1:\n",
            "  Successfully uninstalled scikit-learn-1.2.1\n",
            "Collecting scikit-learn==1.2.1\n",
            "  Using cached scikit_learn-1.2.1-cp39-cp39-macosx_10_9_x86_64.whl (9.1 MB)\n",
            "Requirement already satisfied: numpy>=1.17.3 in /Users/krishna/opt/anaconda3/lib/python3.9/site-packages (from scikit-learn==1.2.1) (1.24.2)\n",
            "Requirement already satisfied: joblib>=1.1.1 in /Users/krishna/opt/anaconda3/lib/python3.9/site-packages (from scikit-learn==1.2.1) (1.2.0)\n",
            "Requirement already satisfied: scipy>=1.3.2 in /Users/krishna/opt/anaconda3/lib/python3.9/site-packages (from scikit-learn==1.2.1) (1.10.1)\n",
            "Requirement already satisfied: threadpoolctl>=2.0.0 in /Users/krishna/opt/anaconda3/lib/python3.9/site-packages (from scikit-learn==1.2.1) (3.1.0)\n",
            "Installing collected packages: scikit-learn\n",
            "Successfully installed scikit-learn-1.2.1\n"
          ]
        }
      ],
      "source": [
        "!pip uninstall scikit-learn -y\n",
        "!pip install scikit-learn==1.2.1"
      ]
    },
    {
      "cell_type": "code",
      "execution_count": 2,
      "id": "44150217",
      "metadata": {
        "colab": {
          "base_uri": "https://localhost:8080/"
        },
        "id": "44150217",
        "lines_to_next_cell": 1,
        "outputId": "800a44b3-0064-4a3f-a5d1-92abbdd98bcf"
      },
      "outputs": [
        {
          "name": "stdout",
          "output_type": "stream",
          "text": [
            "  % Total    % Received % Xferd  Average Speed   Time    Time     Time  Current\n",
            "                                 Dload  Upload   Total   Spent    Left  Speed\n",
            "100 26963  100 26963    0     0   180k      0 --:--:-- --:--:-- --:--:--  181k\n",
            "  % Total    % Received % Xferd  Average Speed   Time    Time     Time  Current\n",
            "                                 Dload  Upload   Total   Spent    Left  Speed\n",
            "100 14.3M  100 14.3M    0     0  22.1M      0 --:--:-- --:--:-- --:--:-- 22.1M\n"
          ]
        }
      ],
      "source": [
        "import pandas as pd\n",
        "import joblib\n",
        "from pydantic import BaseModel, Field\n",
        "from pydantic.tools import parse_obj_as\n",
        "import matplotlib.pyplot as plt \n",
        "from tqdm import tqdm\n",
        "import numpy as np\n",
        "\n",
        "!curl -L -o student_data.csv \"https://seansun.org/17313/P4/ML/student_data.csv\"\n",
        "!curl -L -o model.pkl \"https://seansun.org/17313/P4/ML/model.pkl\""
      ]
    },
    {
      "cell_type": "code",
      "execution_count": 3,
      "id": "d991f1c8",
      "metadata": {
        "id": "d991f1c8",
        "lines_to_next_cell": 1
      },
      "outputs": [],
      "source": [
        "# Pydantic Models\n",
        "class Student(BaseModel):\n",
        "    student_id: str = Field(alias=\"Student ID\")\n",
        "    gender: str = Field(alias=\"Gender\")\n",
        "    age: str = Field(alias=\"Age\")\n",
        "    major: str = Field(alias=\"Major\")\n",
        "    gpa: str = Field(alias=\"GPA\")\n",
        "    extra_curricular: str = Field(alias=\"Extra Curricular\")\n",
        "    num_programming_languages: str = Field(alias=\"Num Programming Languages\")\n",
        "    num_past_internships: str = Field(alias=\"Num Past Internships\")\n",
        "\n",
        "    class Config:\n",
        "        allow_population_by_field_name = True"
      ]
    },
    {
      "cell_type": "code",
      "execution_count": 4,
      "id": "1267178a",
      "metadata": {
        "id": "1267178a"
      },
      "outputs": [],
      "source": [
        "class PredictionResult(BaseModel):\n",
        "    good_employee: int"
      ]
    },
    {
      "cell_type": "code",
      "execution_count": 5,
      "id": "554f523e",
      "metadata": {
        "id": "554f523e"
      },
      "outputs": [],
      "source": [
        "# Main Functionality\n",
        "def predict(student):\n",
        "    '''\n",
        "    Returns a prediction on whether the student will be a good employee\n",
        "    based on given parameters by using the ML model\n",
        "\n",
        "    Parameters\n",
        "    ----------\n",
        "    student : dict\n",
        "        A dictionary that contains all fields in Student\n",
        "    \n",
        "    Returns\n",
        "    -------\n",
        "    dict\n",
        "        A dictionary satisfying type PredictionResult, contains a single field\n",
        "        'good_employee' which is either 1 (will be a good employee) or 0 (will\n",
        "        not be a good employee)\n",
        "    '''\n",
        "    # Use Pydantic to validate model fields exist\n",
        "    student = parse_obj_as(Student, student)\n",
        "\n",
        "    clf = joblib.load('./model.pkl')\n",
        "    \n",
        "    student = student.dict(by_alias=True)\n",
        "    query = pd.DataFrame(student, index=[0])\n",
        "    prediction = clf.predict(query) # TODO: Error handling ??\n",
        "\n",
        "    return { 'good_employee': prediction[0] }"
      ]
    },
    {
      "cell_type": "code",
      "execution_count": 6,
      "id": "e2abe636",
      "metadata": {
        "id": "e2abe636"
      },
      "outputs": [],
      "source": [
        "df = pd.read_csv(\"./student_data.csv\")"
      ]
    },
    {
      "cell_type": "code",
      "execution_count": 7,
      "id": "34345124",
      "metadata": {
        "colab": {
          "base_uri": "https://localhost:8080/"
        },
        "id": "34345124",
        "outputId": "102edab5-adaf-4698-8db8-b10cef828840"
      },
      "outputs": [
        {
          "name": "stderr",
          "output_type": "stream",
          "text": [
            "100%|██████████| 500/500 [01:51<00:00,  4.50it/s]\n"
          ]
        }
      ],
      "source": [
        "dfdict = df.to_dict(orient='records')\n",
        "for student in tqdm(dfdict):\n",
        "    student[\"result\"] = predict(student)['good_employee']"
      ]
    },
    {
      "cell_type": "code",
      "execution_count": 21,
      "id": "31db34e9",
      "metadata": {
        "colab": {
          "base_uri": "https://localhost:8080/"
        },
        "id": "31db34e9",
        "outputId": "c791b535-2070-403c-f18f-b1298b8f95b3"
      },
      "outputs": [
        {
          "name": "stdout",
          "output_type": "stream",
          "text": [
            "Accuracy:  0.832\n",
            "Confusion matrix:\n",
            "[[195.  42.]\n",
            " [ 42. 221.]]\n",
            "True positive rate 0.8227848101265823\n",
            "True negative rate 0.8403041825095057\n",
            "False positive rate 0.1596958174904943\n",
            "False positive rate 0.17721518987341772\n",
            "True positive female rate (TP for females/TP + FN for females) 0.7355371900826446\n",
            "True positive male rate (TP for males/TP + FN for males) 0.9137931034482759\n"
          ]
        }
      ],
      "source": [
        "acc = 0\n",
        "acc_count = 0\n",
        "C = np.zeros((2, 2))\n",
        "true_pos_female = 0\n",
        "female_count = 0\n",
        "true_pos_male = 0\n",
        "male_count = 0\n",
        "for student in dfdict:\n",
        "    if student['Good Candidate'] == student['result']:\n",
        "        acc += 1\n",
        "        if student[\"Gender\"] == \"F\" and student['Good Candidate'] == 1:\n",
        "            true_pos_female += 1\n",
        "        elif student[\"Gender\"] == \"M\" and student['Good Candidate'] == 1:\n",
        "            true_pos_male += 1\n",
        "    C[1 - (student['Good Candidate'])][1 - (student['result'])] += 1\n",
        "    acc_count += 1\n",
        "    if student[\"Gender\"] == \"F\" and student['Good Candidate'] == 1:\n",
        "        female_count += 1\n",
        "    elif student[\"Gender\"] == \"M\" and student['Good Candidate'] == 1:\n",
        "        male_count += 1\n",
        "print(\"Accuracy: \", acc/acc_count)\n",
        "print(\"Confusion matrix:\")\n",
        "print(C)\n",
        "print(\"True positive rate\", C[0][0]/(C[0][0] + C[1][0]))\n",
        "print(\"True negative rate\", C[1][1]/(C[1][1] + C[0][1]))\n",
        "print(\"False positive rate\", C[1][0]/(C[1][0] + C[1][1]))\n",
        "print(\"False positive rate\", C[0][1]/(C[0][1] + C[0][0]))\n",
        "print(\"True positive female rate (TP for females/TP + FN for females)\",\n",
        "      true_pos_female/female_count)\n",
        "print(\"True positive male rate (TP for males/TP + FN for males)\",\n",
        "      true_pos_male/male_count)\n"
      ]
    },
    {
      "cell_type": "code",
      "execution_count": 9,
      "id": "SRWgfXLJsIRQ",
      "metadata": {
        "colab": {
          "base_uri": "https://localhost:8080/",
          "height": 281
        },
        "id": "SRWgfXLJsIRQ",
        "outputId": "f3282dbc-776e-488e-8e8e-0a61f5342fda"
      },
      "outputs": [
        {
          "name": "stdout",
          "output_type": "stream",
          "text": [
            "Bar chart of gender counts\n"
          ]
        },
        {
          "data": {
            "text/plain": [
              "<AxesSubplot:>"
            ]
          },
          "execution_count": 9,
          "metadata": {},
          "output_type": "execute_result"
        },
        {
          "data": {
            "image/png": "[encoded data removed]",
            "text/plain": [
              "<Figure size 432x288 with 1 Axes>"
            ]
          },
          "metadata": {
            "needs_background": "light"
          },
          "output_type": "display_data"
        }
      ],
      "source": [
        "print(\"Bar chart of gender counts\")\n",
        "df['Gender'].value_counts().plot(kind='bar')"
      ]
    },
    {
      "cell_type": "code",
      "execution_count": 10,
      "id": "l2WK1bq9sJ8h",
      "metadata": {
        "colab": {
          "base_uri": "https://localhost:8080/",
          "height": 282
        },
        "id": "l2WK1bq9sJ8h",
        "outputId": "b3f75f56-e723-4597-c565-dd1e0688b1ec"
      },
      "outputs": [
        {
          "name": "stdout",
          "output_type": "stream",
          "text": [
            "Histogram of age distribution\n"
          ]
        },
        {
          "data": {
            "text/plain": [
              "<AxesSubplot:ylabel='Frequency'>"
            ]
          },
          "execution_count": 10,
          "metadata": {},
          "output_type": "execute_result"
        },
        {
          "data": {
            "image/png": "[encoded data removed]",
            "text/plain": [
              "<Figure size 432x288 with 1 Axes>"
            ]
          },
          "metadata": {
            "needs_background": "light"
          },
          "output_type": "display_data"
        }
      ],
      "source": [
        "print(\"Histogram of age distribution\")\n",
        "df['Age'].plot(kind='hist', edgecolor='black')"
      ]
    },
    {
      "cell_type": "code",
      "execution_count": 11,
      "id": "ZoXeytaosL3u",
      "metadata": {
        "colab": {
          "base_uri": "https://localhost:8080/",
          "height": 456
        },
        "id": "ZoXeytaosL3u",
        "outputId": "a4e84231-ff45-495f-e2fa-92809c59be29"
      },
      "outputs": [
        {
          "name": "stdout",
          "output_type": "stream",
          "text": [
            "Bar chart of major counts\n"
          ]
        },
        {
          "data": {
            "text/plain": [
              "<AxesSubplot:>"
            ]
          },
          "execution_count": 11,
          "metadata": {},
          "output_type": "execute_result"
        },
        {
          "data": {
            "image/png": "[encoded data removed]",
            "text/plain": [
              "<Figure size 432x288 with 1 Axes>"
            ]
          },
          "metadata": {
            "needs_background": "light"
          },
          "output_type": "display_data"
        }
      ],
      "source": [
        "print(\"Bar chart of major counts\")\n",
        "df['Major'].value_counts().plot(kind='bar')\n"
      ]
    },
    {
      "cell_type": "code",
      "execution_count": 12,
      "id": "s0a4JFsbsOGb",
      "metadata": {
        "colab": {
          "base_uri": "https://localhost:8080/",
          "height": 282
        },
        "id": "s0a4JFsbsOGb",
        "outputId": "0e167fd0-c425-43aa-8b5c-e985e477cd72"
      },
      "outputs": [
        {
          "name": "stdout",
          "output_type": "stream",
          "text": [
            "Histogram of GPA\n"
          ]
        },
        {
          "data": {
            "text/plain": [
              "<AxesSubplot:ylabel='Frequency'>"
            ]
          },
          "execution_count": 12,
          "metadata": {},
          "output_type": "execute_result"
        },
        {
          "data": {
            "image/png": "[encoded data removed]",
            "text/plain": [
              "<Figure size 432x288 with 1 Axes>"
            ]
          },
          "metadata": {
            "needs_background": "light"
          },
          "output_type": "display_data"
        }
      ],
      "source": [
        "print(\"Histogram of GPA\")\n",
        "df['GPA'].plot(kind='hist', edgecolor='black')"
      ]
    },
    {
      "cell_type": "code",
      "execution_count": 13,
      "id": "eP6Kx8nJsPsB",
      "metadata": {
        "colab": {
          "base_uri": "https://localhost:8080/",
          "height": 415
        },
        "id": "eP6Kx8nJsPsB",
        "outputId": "2db6b526-a7fe-4b3f-e688-821f80b1b06a"
      },
      "outputs": [
        {
          "name": "stdout",
          "output_type": "stream",
          "text": [
            "Bar chart of extracurriculars\n"
          ]
        },
        {
          "data": {
            "text/plain": [
              "<AxesSubplot:>"
            ]
          },
          "execution_count": 13,
          "metadata": {},
          "output_type": "execute_result"
        },
        {
          "data": {
            "image/png": "[encoded data removed]",
            "text/plain": [
              "<Figure size 432x288 with 1 Axes>"
            ]
          },
          "metadata": {
            "needs_background": "light"
          },
          "output_type": "display_data"
        }
      ],
      "source": [
        "print(\"Bar chart of extracurriculars\")\n",
        "df['Extra Curricular'].value_counts().plot(kind='bar')\n"
      ]
    },
    {
      "cell_type": "code",
      "execution_count": 14,
      "id": "185d1feb",
      "metadata": {
        "colab": {
          "base_uri": "https://localhost:8080/",
          "height": 282
        },
        "id": "185d1feb",
        "outputId": "18c80692-1586-4b9c-b361-12c06d222038"
      },
      "outputs": [
        {
          "name": "stdout",
          "output_type": "stream",
          "text": [
            "Histogram of number of programming languages\n"
          ]
        },
        {
          "data": {
            "text/plain": [
              "<AxesSubplot:ylabel='Frequency'>"
            ]
          },
          "execution_count": 14,
          "metadata": {},
          "output_type": "execute_result"
        },
        {
          "data": {
            "image/png": "[encoded data removed]",
            "text/plain": [
              "<Figure size 432x288 with 1 Axes>"
            ]
          },
          "metadata": {
            "needs_background": "light"
          },
          "output_type": "display_data"
        }
      ],
      "source": [
        "print(\"Histogram of number of programming languages\")\n",
        "df['Num Programming Languages'].plot(kind='hist', edgecolor='black')\n"
      ]
    },
    {
      "cell_type": "code",
      "execution_count": 15,
      "id": "MGUbS1chsTWk",
      "metadata": {
        "colab": {
          "base_uri": "https://localhost:8080/",
          "height": 282
        },
        "id": "MGUbS1chsTWk",
        "outputId": "3d1c2877-9578-441f-a7e7-9a2953f96d06"
      },
      "outputs": [
        {
          "name": "stdout",
          "output_type": "stream",
          "text": [
            "Histogram of number of past internships\n"
          ]
        },
        {
          "data": {
            "text/plain": [
              "<AxesSubplot:ylabel='Frequency'>"
            ]
          },
          "execution_count": 15,
          "metadata": {},
          "output_type": "execute_result"
        },
        {
          "data": {
            "image/png": "[encoded data removed]",
            "text/plain": [
              "<Figure size 432x288 with 1 Axes>"
            ]
          },
          "metadata": {
            "needs_background": "light"
          },
          "output_type": "display_data"
        }
      ],
      "source": [
        "print(\"Histogram of number of past internships\")\n",
        "df['Num Past Internships'].plot(kind='hist', edgecolor='black')\n"
      ]
    },
    {
      "cell_type": "code",
      "execution_count": null,
      "id": "8CfTaC2kt82g",
      "metadata": {
        "id": "8CfTaC2kt82g"
      },
      "outputs": [],
      "source": []
    }
  ],
  "metadata": {
    "colab": {
      "provenance": []
    },
    "gpuClass": "standard",
    "jupytext": {
      "cell_metadata_filter": "-all",
      "notebook_metadata_filter": "-all"
    },
    "kernelspec": {
      "display_name": "Python 3 (ipykernel)",
      "language": "python",
      "name": "python3"
    },
    "language_info": {
      "codemirror_mode": {
        "name": "ipython",
        "version": 3
      },
      "file_extension": ".py",
      "mimetype": "text/x-python",
      "name": "python",
      "nbconvert_exporter": "python",
      "pygments_lexer": "ipython3",
      "version": "3.9.7"
    }
  },
  "nbformat": 4,
  "nbformat_minor": 5
}
